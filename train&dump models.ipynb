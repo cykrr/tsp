{
 "cells": [
  {
   "cell_type": "code",
   "execution_count": 1,
   "id": "95f0f2d5-6463-433c-a95e-95cbc7c3523e",
   "metadata": {},
   "outputs": [],
   "source": [
    "from tsp.models import BaseModel, TransformerBlockModel, MultilayerTransformerBlockModel"
   ]
  },
  {
   "cell_type": "code",
   "execution_count": 2,
   "id": "22f74816-2567-4961-a0a2-be645c829c88",
   "metadata": {},
   "outputs": [
    {
     "name": "stdout",
     "output_type": "stream",
     "text": [
      "Generating data for MultilayerTransformerBlockModel...\n"
     ]
    },
    {
     "name": "stderr",
     "output_type": "stream",
     "text": [
      "Generating data: 100%|█████████████████████████████████████████████████████| 20000/20000 [00:10<00:00, 1994.08sample/s]\n"
     ]
    },
    {
     "name": "stdout",
     "output_type": "stream",
     "text": [
      "Training MultilayerTransformerBlockModel...\n",
      "Entrenando modelo...\n"
     ]
    },
    {
     "name": "stderr",
     "output_type": "stream",
     "text": [
      "C:\\Users\\krr\\Downloads\\TSP\\tsp\\models\\trainable_model.py:90: FutureWarning: The behavior of DataFrame concatenation with empty or all-NA entries is deprecated. In a future version, this will no longer exclude empty or all-NA columns when determining the result dtypes. To retain the old behavior, exclude the relevant entries before the concat operation.\n",
      "  df = pd.concat([df, pd.DataFrame([{\n"
     ]
    },
    {
     "name": "stdout",
     "output_type": "stream",
     "text": [
      "Epoch 1, Train Loss: 0.9357, Train Accuracy: 71.36%\n",
      "Epoch 1, Val Loss: 0.5623, Val Accuracy: 82.81%\n"
     ]
    },
    {
     "name": "stderr",
     "output_type": "stream",
     "text": [
      "Instances: 100%|██████████████████████████████████████████████████████████████| 50/50 [00:00<00:00, 16669.20instance/s]\n",
      "Solving Instances:   0%|                                                                  | 0/50 [00:00<?, ?instance/s]C:\\Users\\krr\\Downloads\\TSP\\tsp\\models\\trainable_model.py:114: FutureWarning: The behavior of DataFrame concatenation with empty or all-NA entries is deprecated. In a future version, this will no longer exclude empty or all-NA columns when determining the result dtypes. To retain the old behavior, exclude the relevant entries before the concat operation.\n",
      "  dfb = pd.concat([dfb, pd.DataFrame([{\n",
      "Solving Instances: 100%|█████████████████████████████████████████████████████████| 50/50 [00:10<00:00,  4.80instance/s]\n"
     ]
    },
    {
     "name": "stdout",
     "output_type": "stream",
     "text": [
      "Epoch 2, Train Loss: 0.6105, Train Accuracy: 79.57%\n",
      "Epoch 2, Val Loss: 0.5510, Val Accuracy: 83.30%\n"
     ]
    },
    {
     "name": "stderr",
     "output_type": "stream",
     "text": [
      "Instances: 100%|██████████████████████████████████████████████████████████████| 50/50 [00:00<00:00, 16667.87instance/s]\n",
      "Solving Instances: 100%|█████████████████████████████████████████████████████████| 50/50 [00:10<00:00,  4.73instance/s]\n"
     ]
    },
    {
     "name": "stdout",
     "output_type": "stream",
     "text": [
      "Epoch 3, Train Loss: 0.5836, Train Accuracy: 80.65%\n",
      "Epoch 3, Val Loss: 0.5322, Val Accuracy: 83.51%\n"
     ]
    },
    {
     "name": "stderr",
     "output_type": "stream",
     "text": [
      "Instances: 100%|██████████████████████████████████████████████████████████████| 50/50 [00:00<00:00, 24977.99instance/s]\n",
      "Solving Instances: 100%|█████████████████████████████████████████████████████████| 50/50 [00:11<00:00,  4.25instance/s]\n"
     ]
    },
    {
     "name": "stdout",
     "output_type": "stream",
     "text": [
      "Epoch 4, Train Loss: 0.5690, Train Accuracy: 80.75%\n",
      "Epoch 4, Val Loss: 0.5177, Val Accuracy: 83.62%\n"
     ]
    },
    {
     "name": "stderr",
     "output_type": "stream",
     "text": [
      "Instances: 100%|██████████████████████████████████████████████████████████████| 50/50 [00:00<00:00, 24983.94instance/s]\n",
      "Solving Instances: 100%|█████████████████████████████████████████████████████████| 50/50 [00:11<00:00,  4.28instance/s]\n"
     ]
    },
    {
     "name": "stdout",
     "output_type": "stream",
     "text": [
      "Epoch 5, Train Loss: 0.5553, Train Accuracy: 81.40%\n",
      "Epoch 5, Val Loss: 0.5294, Val Accuracy: 84.03%\n"
     ]
    },
    {
     "name": "stderr",
     "output_type": "stream",
     "text": [
      "Instances: 100%|██████████████████████████████████████████████████████████████| 50/50 [00:00<00:00, 24980.96instance/s]\n",
      "Solving Instances: 100%|█████████████████████████████████████████████████████████| 50/50 [00:12<00:00,  4.01instance/s]\n"
     ]
    },
    {
     "name": "stdout",
     "output_type": "stream",
     "text": [
      "Epoch 6, Train Loss: 0.5390, Train Accuracy: 81.77%\n",
      "Epoch 6, Val Loss: 0.5077, Val Accuracy: 84.03%\n"
     ]
    },
    {
     "name": "stderr",
     "output_type": "stream",
     "text": [
      "Instances: 100%|██████████████████████████████████████████████████████████████| 50/50 [00:00<00:00, 16657.28instance/s]\n",
      "Solving Instances: 100%|█████████████████████████████████████████████████████████| 50/50 [00:10<00:00,  4.61instance/s]\n"
     ]
    },
    {
     "name": "stdout",
     "output_type": "stream",
     "text": [
      "Epoch 7, Train Loss: 0.5380, Train Accuracy: 81.56%\n",
      "Epoch 7, Val Loss: 0.5171, Val Accuracy: 83.84%\n"
     ]
    },
    {
     "name": "stderr",
     "output_type": "stream",
     "text": [
      "Instances: 100%|██████████████████████████████████████████████████████████████| 50/50 [00:00<00:00, 24995.85instance/s]\n",
      "Solving Instances: 100%|█████████████████████████████████████████████████████████| 50/50 [00:11<00:00,  4.22instance/s]\n"
     ]
    },
    {
     "name": "stdout",
     "output_type": "stream",
     "text": [
      "Epoch 8, Train Loss: 0.5337, Train Accuracy: 82.10%\n",
      "Epoch 8, Val Loss: 0.5038, Val Accuracy: 84.17%\n"
     ]
    },
    {
     "name": "stderr",
     "output_type": "stream",
     "text": [
      "Instances: 100%|██████████████████████████████████████████████████████████████| 50/50 [00:00<00:00, 25001.81instance/s]\n",
      "Solving Instances: 100%|█████████████████████████████████████████████████████████| 50/50 [00:11<00:00,  4.32instance/s]\n"
     ]
    },
    {
     "name": "stdout",
     "output_type": "stream",
     "text": [
      "Epoch 9, Train Loss: 0.5248, Train Accuracy: 82.18%\n",
      "Epoch 9, Val Loss: 0.4958, Val Accuracy: 84.26%\n"
     ]
    },
    {
     "name": "stderr",
     "output_type": "stream",
     "text": [
      "Instances: 100%|██████████████████████████████████████████████████████████████| 50/50 [00:00<00:00, 16666.55instance/s]\n",
      "Solving Instances: 100%|█████████████████████████████████████████████████████████| 50/50 [00:12<00:00,  4.14instance/s]\n"
     ]
    },
    {
     "name": "stdout",
     "output_type": "stream",
     "text": [
      "Epoch 10, Train Loss: 0.5224, Train Accuracy: 81.98%\n",
      "Epoch 10, Val Loss: 0.5236, Val Accuracy: 84.14%\n"
     ]
    },
    {
     "name": "stderr",
     "output_type": "stream",
     "text": [
      "Instances: 100%|██████████████████████████████████████████████████████████████| 50/50 [00:00<00:00, 16657.28instance/s]\n",
      "Solving Instances: 100%|█████████████████████████████████████████████████████████| 50/50 [00:12<00:00,  4.12instance/s]"
     ]
    },
    {
     "name": "stdout",
     "output_type": "stream",
     "text": [
      "Saved MultilayerTransformerBlockModel to MultilayerTransformerBlockModel-25-01-08--01-56-35.bin\n"
     ]
    },
    {
     "name": "stderr",
     "output_type": "stream",
     "text": [
      "\n"
     ]
    }
   ],
   "source": [
    "import datetime\n",
    "import torch\n",
    "from sklearn.model_selection import train_test_split\n",
    "from torch.utils.data import DataLoader, random_split\n",
    "from tsp.models import BaseModel, TransformerBlockModel, MultilayerTransformerBlockModel\n",
    "from torch.utils.data import DataLoader, TensorDataset, random_split\n",
    "import numpy as np\n",
    "\n",
    "\n",
    "# List of models to train\n",
    "models = [#BaseModel(), TransformerBlockModel(), \n",
    "          MultilayerTransformerBlockModel()]\n",
    "\n",
    "# Device configuration\n",
    "device = torch.device(\"cuda\" if torch.cuda.is_available() else \"cpu\")\n",
    "\n",
    "# Training loop for each model\n",
    "for model in models:\n",
    "    # Ensure the model is on the correct device\n",
    "    # Generate synthetic data\n",
    "    print(f\"Generating data for {type(model).__name__}...\")\n",
    "    X, Y = model.generate_data(use_progress_bar=True)\n",
    "    X, Y = X.to(device), Y.to(device)\n",
    "\n",
    "    # Split data into training and testing datasets\n",
    "    train_X, val_X, train_Y, val_Y = train_test_split(X, Y, test_size=0.5, random_state=42)\n",
    "    train_dataset = TensorDataset(train_X, train_Y)\n",
    "    val_dataset = TensorDataset(val_X, val_Y)\n",
    "\n",
    "    # Create data loaders\n",
    "    train_loader = DataLoader(train_dataset, batch_size=model.batch_size, shuffle=True)\n",
    "    val_loader = DataLoader(val_dataset, batch_size=model.batch_size, shuffle=False)\n",
    "\n",
    "    # Train the model\n",
    "    print(f\"Training {type(model).__name__}...\")\n",
    "    model.load_model()\n",
    "    dfa, dfb = model.ugly_train(\n",
    "        xt=train_X, \n",
    "        yt=train_Y, \n",
    "        xv=val_X, \n",
    "        yv=val_Y, \n",
    "        num_iter=1,)  # Example: Assuming this is the first iteration    )\n",
    "    # Save the trained model\n",
    "    time_stamp = datetime.datetime.now().strftime(\"%y-%m-%d--%H-%M-%S\")\n",
    "    save_path = f\"{type(model).__name__}-{time_stamp}.bin\"\n",
    "    torch.save(model.model.state_dict(), save_path)\n",
    "    print(f\"Saved {type(model).__name__} to {save_path}\")"
   ]
  },
  {
   "cell_type": "code",
   "execution_count": 3,
   "id": "e550f1ed-6807-4a26-80d1-871ae152be89",
   "metadata": {},
   "outputs": [
    {
     "data": {
      "text/html": [
       "<div>\n",
       "<style scoped>\n",
       "    .dataframe tbody tr th:only-of-type {\n",
       "        vertical-align: middle;\n",
       "    }\n",
       "\n",
       "    .dataframe tbody tr th {\n",
       "        vertical-align: top;\n",
       "    }\n",
       "\n",
       "    .dataframe thead th {\n",
       "        text-align: right;\n",
       "    }\n",
       "</style>\n",
       "<table border=\"1\" class=\"dataframe\">\n",
       "  <thead>\n",
       "    <tr style=\"text-align: right;\">\n",
       "      <th></th>\n",
       "      <th>Model Name</th>\n",
       "      <th>cities</th>\n",
       "      <th>iter</th>\n",
       "      <th>Epoch</th>\n",
       "      <th>cost</th>\n",
       "      <th>ModelName</th>\n",
       "    </tr>\n",
       "  </thead>\n",
       "  <tbody>\n",
       "    <tr>\n",
       "      <th>0</th>\n",
       "      <td>NaN</td>\n",
       "      <td>50</td>\n",
       "      <td>NaN</td>\n",
       "      <td>0</td>\n",
       "      <td>6.809110</td>\n",
       "      <td>MultilayerTransformerBlockModel</td>\n",
       "    </tr>\n",
       "    <tr>\n",
       "      <th>0</th>\n",
       "      <td>NaN</td>\n",
       "      <td>50</td>\n",
       "      <td>NaN</td>\n",
       "      <td>0</td>\n",
       "      <td>6.126837</td>\n",
       "      <td>MultilayerTransformerBlockModel</td>\n",
       "    </tr>\n",
       "    <tr>\n",
       "      <th>0</th>\n",
       "      <td>NaN</td>\n",
       "      <td>50</td>\n",
       "      <td>NaN</td>\n",
       "      <td>0</td>\n",
       "      <td>6.351287</td>\n",
       "      <td>MultilayerTransformerBlockModel</td>\n",
       "    </tr>\n",
       "    <tr>\n",
       "      <th>0</th>\n",
       "      <td>NaN</td>\n",
       "      <td>50</td>\n",
       "      <td>NaN</td>\n",
       "      <td>0</td>\n",
       "      <td>6.884301</td>\n",
       "      <td>MultilayerTransformerBlockModel</td>\n",
       "    </tr>\n",
       "    <tr>\n",
       "      <th>0</th>\n",
       "      <td>NaN</td>\n",
       "      <td>50</td>\n",
       "      <td>NaN</td>\n",
       "      <td>0</td>\n",
       "      <td>6.691694</td>\n",
       "      <td>MultilayerTransformerBlockModel</td>\n",
       "    </tr>\n",
       "    <tr>\n",
       "      <th>...</th>\n",
       "      <td>...</td>\n",
       "      <td>...</td>\n",
       "      <td>...</td>\n",
       "      <td>...</td>\n",
       "      <td>...</td>\n",
       "      <td>...</td>\n",
       "    </tr>\n",
       "    <tr>\n",
       "      <th>0</th>\n",
       "      <td>NaN</td>\n",
       "      <td>50</td>\n",
       "      <td>NaN</td>\n",
       "      <td>9</td>\n",
       "      <td>6.444959</td>\n",
       "      <td>MultilayerTransformerBlockModel</td>\n",
       "    </tr>\n",
       "    <tr>\n",
       "      <th>0</th>\n",
       "      <td>NaN</td>\n",
       "      <td>50</td>\n",
       "      <td>NaN</td>\n",
       "      <td>9</td>\n",
       "      <td>5.720748</td>\n",
       "      <td>MultilayerTransformerBlockModel</td>\n",
       "    </tr>\n",
       "    <tr>\n",
       "      <th>0</th>\n",
       "      <td>NaN</td>\n",
       "      <td>50</td>\n",
       "      <td>NaN</td>\n",
       "      <td>9</td>\n",
       "      <td>5.958857</td>\n",
       "      <td>MultilayerTransformerBlockModel</td>\n",
       "    </tr>\n",
       "    <tr>\n",
       "      <th>0</th>\n",
       "      <td>NaN</td>\n",
       "      <td>50</td>\n",
       "      <td>NaN</td>\n",
       "      <td>9</td>\n",
       "      <td>6.407382</td>\n",
       "      <td>MultilayerTransformerBlockModel</td>\n",
       "    </tr>\n",
       "    <tr>\n",
       "      <th>0</th>\n",
       "      <td>NaN</td>\n",
       "      <td>50</td>\n",
       "      <td>NaN</td>\n",
       "      <td>9</td>\n",
       "      <td>6.758716</td>\n",
       "      <td>MultilayerTransformerBlockModel</td>\n",
       "    </tr>\n",
       "  </tbody>\n",
       "</table>\n",
       "<p>500 rows × 6 columns</p>\n",
       "</div>"
      ],
      "text/plain": [
       "   Model Name cities iter Epoch      cost                        ModelName\n",
       "0         NaN     50  NaN     0  6.809110  MultilayerTransformerBlockModel\n",
       "0         NaN     50  NaN     0  6.126837  MultilayerTransformerBlockModel\n",
       "0         NaN     50  NaN     0  6.351287  MultilayerTransformerBlockModel\n",
       "0         NaN     50  NaN     0  6.884301  MultilayerTransformerBlockModel\n",
       "0         NaN     50  NaN     0  6.691694  MultilayerTransformerBlockModel\n",
       "..        ...    ...  ...   ...       ...                              ...\n",
       "0         NaN     50  NaN     9  6.444959  MultilayerTransformerBlockModel\n",
       "0         NaN     50  NaN     9  5.720748  MultilayerTransformerBlockModel\n",
       "0         NaN     50  NaN     9  5.958857  MultilayerTransformerBlockModel\n",
       "0         NaN     50  NaN     9  6.407382  MultilayerTransformerBlockModel\n",
       "0         NaN     50  NaN     9  6.758716  MultilayerTransformerBlockModel\n",
       "\n",
       "[500 rows x 6 columns]"
      ]
     },
     "execution_count": 3,
     "metadata": {},
     "output_type": "execute_result"
    }
   ],
   "source": [
    "dfb"
   ]
  },
  {
   "cell_type": "code",
   "execution_count": 4,
   "id": "9779e180-ef90-41ca-8123-e3da37810c8f",
   "metadata": {},
   "outputs": [],
   "source": [
    "dfb.to_csv(\"ext.csv\")\n"
   ]
  },
  {
   "cell_type": "code",
   "execution_count": null,
   "id": "6a7cc388-3bbd-47b0-9bd4-626560d40976",
   "metadata": {},
   "outputs": [],
   "source": []
  }
 ],
 "metadata": {
  "kernelspec": {
   "display_name": "Python 3 (ipykernel)",
   "language": "python",
   "name": "python3"
  },
  "language_info": {
   "codemirror_mode": {
    "name": "ipython",
    "version": 3
   },
   "file_extension": ".py",
   "mimetype": "text/x-python",
   "name": "python",
   "nbconvert_exporter": "python",
   "pygments_lexer": "ipython3",
   "version": "3.11.7"
  }
 },
 "nbformat": 4,
 "nbformat_minor": 5
}
