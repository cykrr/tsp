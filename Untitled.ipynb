{
 "cells": [
  {
   "cell_type": "code",
   "execution_count": 1,
   "id": "c8e8eba4-a4c6-4a9e-87a0-b0a16ada925f",
   "metadata": {},
   "outputs": [],
   "source": [
    "from tsp.models import BaseModel, TransformerBlockModel, MultilayerTransformerBlockModel\n",
    "models = [ BaseModel() , TransformerBlockModel() , MultilayerTransformerBlockModel() ]\n"
   ]
  },
  {
   "cell_type": "code",
   "execution_count": 2,
   "id": "ab665c5a-af67-474e-bb32-ae8676b3ad5b",
   "metadata": {},
   "outputs": [
    {
     "ename": "TypeError",
     "evalue": "TrainableModel.train() missing 4 required positional arguments: 'xt', 'yt', 'xv', and 'yv'",
     "output_type": "error",
     "traceback": [
      "\u001b[1;31m---------------------------------------------------------------------------\u001b[0m",
      "\u001b[1;31mTypeError\u001b[0m                                 Traceback (most recent call last)",
      "Cell \u001b[1;32mIn[2], line 4\u001b[0m\n\u001b[0;32m      1\u001b[0m base_model \u001b[38;5;241m=\u001b[39m BaseModel()\n\u001b[0;32m      2\u001b[0m X, Y \u001b[38;5;241m=\u001b[39m base_model\u001b[38;5;241m.\u001b[39mgenerate_data()\n\u001b[1;32m----> 4\u001b[0m base_model\u001b[38;5;241m.\u001b[39mtrain()\n",
      "\u001b[1;31mTypeError\u001b[0m: TrainableModel.train() missing 4 required positional arguments: 'xt', 'yt', 'xv', and 'yv'"
     ]
    }
   ],
   "source": [
    "base_model = BaseModel()\n",
    "X, Y = base_model.generate_data()\n",
    "\n",
    "base_model.train()"
   ]
  },
  {
   "cell_type": "code",
   "execution_count": 3,
   "id": "8c5065fd-fc87-4e3a-8515-657b37b5712e",
   "metadata": {},
   "outputs": [
    {
     "name": "stdout",
     "output_type": "stream",
     "text": [
      "Iteration <built-in function iter>: Preparing dataset\n",
      "Generating data for iteration <built-in function iter>\n"
     ]
    },
    {
     "name": "stderr",
     "output_type": "stream",
     "text": [
      "Generating data:  95%|██████████████████████████████████████████████████▌  | 19069/20000 [00:09<00:00, 2002.96sample/s]"
     ]
    },
    {
     "ename": "KeyboardInterrupt",
     "evalue": "",
     "output_type": "error",
     "traceback": [
      "\u001b[1;31m---------------------------------------------------------------------------\u001b[0m",
      "\u001b[1;31mKeyboardInterrupt\u001b[0m                         Traceback (most recent call last)",
      "Cell \u001b[1;32mIn[3], line 38\u001b[0m\n\u001b[0;32m     36\u001b[0m \u001b[38;5;66;03m# Generate data once per iteration\u001b[39;00m\n\u001b[0;32m     37\u001b[0m \u001b[38;5;28mprint\u001b[39m(\u001b[38;5;124mf\u001b[39m\u001b[38;5;124m\"\u001b[39m\u001b[38;5;124mGenerating data for iteration \u001b[39m\u001b[38;5;132;01m{\u001b[39;00m\u001b[38;5;28miter\u001b[39m\u001b[38;5;132;01m}\u001b[39;00m\u001b[38;5;124m\"\u001b[39m)\n\u001b[1;32m---> 38\u001b[0m X, Y \u001b[38;5;241m=\u001b[39m model\u001b[38;5;241m.\u001b[39mgenerate_data(use_progress_bar\u001b[38;5;241m=\u001b[39m\u001b[38;5;28;01mTrue\u001b[39;00m)\n\u001b[0;32m     39\u001b[0m X \u001b[38;5;241m=\u001b[39m X\u001b[38;5;241m.\u001b[39mto(model\u001b[38;5;241m.\u001b[39mdevice)\n\u001b[0;32m     40\u001b[0m Y \u001b[38;5;241m=\u001b[39m Y\u001b[38;5;241m.\u001b[39mto(model\u001b[38;5;241m.\u001b[39mdevice)\n",
      "File \u001b[1;32m~\\Downloads\\TSP\\tsp\\models\\model_template.py:80\u001b[0m, in \u001b[0;36mModel.generate_data\u001b[1;34m(self, use_progress_bar)\u001b[0m\n\u001b[0;32m     77\u001b[0m seq, _, move2idx \u001b[38;5;241m=\u001b[39m state2vecSeq(current_state)  \u001b[38;5;66;03m# Convertir el estado actual a secuencia vectorizada\u001b[39;00m\n\u001b[0;32m     79\u001b[0m X\u001b[38;5;241m.\u001b[39mappend(torch\u001b[38;5;241m.\u001b[39mtensor(seq))  \u001b[38;5;66;03m# Añadir la secuencia a X\u001b[39;00m\n\u001b[1;32m---> 80\u001b[0m Y\u001b[38;5;241m.\u001b[39mappend(one_hot(torch\u001b[38;5;241m.\u001b[39mtensor(move2idx[move[\u001b[38;5;241m1\u001b[39m]]), num_classes\u001b[38;5;241m=\u001b[39mseq_len))\n\u001b[0;32m     81\u001b[0m \u001b[38;5;66;03m#Y.append(to_categorical(move2idx[move[1]], num_classes=seq_len))  # Añadir el movimiento como categoría a Y\u001b[39;00m\n\u001b[0;32m     83\u001b[0m env\u001b[38;5;241m.\u001b[39mstate_transition(current_state, move)  \u001b[38;5;66;03m# Hacer la transición al siguiente estado\u001b[39;00m\n",
      "\u001b[1;31mKeyboardInterrupt\u001b[0m: "
     ]
    },
    {
     "name": "stderr",
     "output_type": "stream",
     "text": [
      "Generating data:  96%|██████████████████████████████████████████████████▉  | 19209/20000 [00:20<00:00, 2002.96sample/s]"
     ]
    }
   ],
   "source": [
    "class ModelEvalActions():\n",
    "  def __init__(self, model):\n",
    "    self.model=model\n",
    "\n",
    "  # permite evaluar acctiones de varios estados a la vez\n",
    "  # para optimizar los cáluclos del modelo\n",
    "  def __call__(self, states, env):\n",
    "    single_state = False\n",
    "    if not isinstance(states, list):\n",
    "      single_state=True\n",
    "      states = [states]\n",
    "\n",
    "    evals = [list() for _ in states]\n",
    "    vecSeqs=[]; move2idx =[]\n",
    "\n",
    "    for state in states:\n",
    "      vecSeq, _, mov2idx = state.state2vecSeq()\n",
    "      vecSeqs.append(vecSeq)\n",
    "      move2idx.append(mov2idx)\n",
    "    device = torch.device(\"cuda:0\" if torch.cuda.is_available() else \"cpu\")\n",
    "    predictions = self.model(torch.tensor(vecSeqs).to(device), return_probabilities=True)\n",
    "\n",
    "    for k in range(len(states)):\n",
    "      state = states[k]\n",
    "      for action in env.gen_actions(state, \"constructive\"):\n",
    "          idx = move2idx[k][action[1]] #mapping from move to output index (model)\n",
    "          evals[k].append((action,predictions[k][idx]))\n",
    "\n",
    "    if single_state: return evals[0]\n",
    "    else: return evals\n",
    "\n",
    "\n",
    "for model in models:\n",
    "        print(f\"Iteration {iter}: Preparing dataset\")\n",
    "\n",
    "        # Generate data once per iteration\n",
    "        print(f\"Generating data for iteration {iter}\")\n",
    "        X, Y = model.generate_data(use_progress_bar=True)\n",
    "        X = X.to(model.device)\n",
    "        Y = Y.to(model.device)\n",
    "\n",
    "        kfold = KFold(n_splits=k_folds, shuffle=True, random_state=iter)\n",
    "        fold = 0\n",
    "\n",
    "        for train_idx, val_idx in kfold.split(X):\n",
    "            fold += 1\n",
    "\n",
    "            print(f\"Training {type(model).__name__} on fold {fold}\")\n",
    "\n",
    "            # Split data into train and validation sets\n",
    "            X_train, X_val = X[train_idx], X[val_idx]\n",
    "            Y_train, Y_val = Y[train_idx], Y[val_idx]\n",
    "\n",
    "            model.load_model()\n",
    "            # Train the model\n",
    "            trained_model_df = model.train(X_train, Y_train, X_val, Y_val, use_progress_bar=True)\n",
    "                        # Log training metrics\n",
    "            for _, row in trained_model_df.iterrows():\n",
    "                train_df = pd.concat([train_df, pd.DataFrame([{\n",
    "                    \"model_name\": type(model).__name__,\n",
    "                    \"fold\": fold,\n",
    "                    \"epoch\": row[\"Epoch\"],\n",
    "                    \"tr_loss\": row[\"Training Loss\"],\n",
    "                    \"tr_acc\": row[\"Training Accuracy\"],\n",
    "                    \"val_loss\": row[\"Validation Loss\"],\n",
    "                    \"val_acc\": row[\"Validation Accuracy\"]\n",
    "                }])])\n",
    "\n",
    "            print(f\"Evaluating {type(model).__name__} on fold {fold}\")\n",
    "            instances = [\n",
    "                TSP_Instance(np.random.rand(model.city_count, 2)) for _ in tqdm(\n",
    "                    range(nb_eval), desc=\"Instances\", unit=\"instance\", position=0, leave=True\n",
    "                )\n",
    "            ]\n",
    "            greedy = SingleAgentSolver(env, GreedyAgent(ModelEvalActions(model.model)))\n",
    "            solutions = []\n",
    "\n",
    "            for instance in tqdm(instances, desc=\"Solving Instances\", unit=\"instance\", position=0, leave=True):\n",
    "                solution, *_ = greedy.solve(TSP_State(instance, visited=[0]))\n",
    "                eval_df = pd.concat([eval_df, pd.DataFrame([{\n",
    "                    \"model_name\" : type(model).__name__,\n",
    "                    \"fold\": fold,\n",
    "                    \"cost\": solution.cost,                \n",
    "            }]) ])\n",
    "\n",
    "            model.unload_model()"
   ]
  },
  {
   "cell_type": "code",
   "execution_count": null,
   "id": "4b83f56d-981b-47fd-8f6a-8a682bce66b6",
   "metadata": {},
   "outputs": [],
   "source": []
  }
 ],
 "metadata": {
  "kernelspec": {
   "display_name": "Python 3 (ipykernel)",
   "language": "python",
   "name": "python3"
  },
  "language_info": {
   "codemirror_mode": {
    "name": "ipython",
    "version": 3
   },
   "file_extension": ".py",
   "mimetype": "text/x-python",
   "name": "python",
   "nbconvert_exporter": "python",
   "pygments_lexer": "ipython3",
   "version": "3.11.7"
  }
 },
 "nbformat": 4,
 "nbformat_minor": 5
}
